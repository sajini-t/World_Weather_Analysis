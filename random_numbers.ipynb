{
 "cells": [
  {
   "cell_type": "code",
   "execution_count": 2,
   "id": "f06c722c-3414-4973-9d67-081ae102ab41",
   "metadata": {},
   "outputs": [],
   "source": [
    "# Import the random module.\n",
    "import random"
   ]
  },
  {
   "cell_type": "code",
   "execution_count": 4,
   "id": "08a2b757-d0a7-4117-832b-fef864cf39d7",
   "metadata": {},
   "outputs": [
    {
     "data": {
      "text/plain": [
       "-54"
      ]
     },
     "execution_count": 4,
     "metadata": {},
     "output_type": "execute_result"
    }
   ],
   "source": [
    "random.randint(-90,90)"
   ]
  },
  {
   "cell_type": "code",
   "execution_count": 9,
   "id": "ce6d2fe5-5c72-4569-9976-be448d3329fa",
   "metadata": {},
   "outputs": [
    {
     "data": {
      "text/plain": [
       "0.019727051956822783"
      ]
     },
     "execution_count": 9,
     "metadata": {},
     "output_type": "execute_result"
    }
   ],
   "source": [
    "random.random()"
   ]
  },
  {
   "cell_type": "code",
   "execution_count": 15,
   "id": "594ebd22-8a1e-4a18-a555-fd18faa10b4a",
   "metadata": {},
   "outputs": [
    {
     "data": {
      "text/plain": [
       "-50.463544308222936"
      ]
     },
     "execution_count": 15,
     "metadata": {},
     "output_type": "execute_result"
    }
   ],
   "source": [
    "random_number = random.randint(-90, 89) + random.random()\n",
    "random_number"
   ]
  },
  {
   "cell_type": "code",
   "execution_count": 19,
   "id": "dd435e88-63a7-4af8-b5fe-bb1a78ee390d",
   "metadata": {},
   "outputs": [
    {
     "data": {
      "text/plain": [
       "[-67.15728592451046,\n",
       " 33.69100118641238,\n",
       " -85.1655012970256,\n",
       " 30.988899003330836,\n",
       " 43.80344083879321,\n",
       " -3.147300377506777,\n",
       " 4.574212131302675,\n",
       " 54.73226071154198,\n",
       " 47.11561151968245,\n",
       " 27.07356322143629]"
      ]
     },
     "execution_count": 19,
     "metadata": {},
     "output_type": "execute_result"
    }
   ],
   "source": [
    "x = 1\n",
    "latitudes = []\n",
    "while x < 11:\n",
    "    random_lat = random.randint(-90, 89) + random.random()\n",
    "    latitudes.append(random_lat)\n",
    "    x += 1\n",
    "latitudes"
   ]
  },
  {
   "cell_type": "code",
   "execution_count": 21,
   "id": "90d5cd31-820e-4b67-8aaf-4d49c0cf885e",
   "metadata": {},
   "outputs": [
    {
     "data": {
      "text/plain": [
       "-61"
      ]
     },
     "execution_count": 21,
     "metadata": {},
     "output_type": "execute_result"
    }
   ],
   "source": [
    "random.randrange(-90, 90)"
   ]
  },
  {
   "cell_type": "code",
   "execution_count": 20,
   "id": "f9166c94-0d2e-42e0-a525-b882a0e205c8",
   "metadata": {},
   "outputs": [
    {
     "data": {
      "text/plain": [
       "76.74856348302993"
      ]
     },
     "execution_count": 20,
     "metadata": {},
     "output_type": "execute_result"
    }
   ],
   "source": [
    "random.uniform(-90, 90)"
   ]
  },
  {
   "cell_type": "code",
   "execution_count": 22,
   "id": "d6ed6928-a2c6-4bf0-8859-d9b87a124032",
   "metadata": {},
   "outputs": [],
   "source": [
    "# Import the NumPy module.\n",
    "import numpy as np"
   ]
  },
  {
   "cell_type": "code",
   "execution_count": 26,
   "id": "500c426b-a378-4c99-9199-25a763b7e1c1",
   "metadata": {},
   "outputs": [
    {
     "data": {
      "text/plain": [
       "27.32217395235554"
      ]
     },
     "execution_count": 26,
     "metadata": {},
     "output_type": "execute_result"
    }
   ],
   "source": [
    "np.random.uniform(-90, 90)\n",
    "#or np.random.uniform(low=-90, high=90)"
   ]
  },
  {
   "cell_type": "code",
   "execution_count": 27,
   "id": "bf4a09f7-c1fb-4197-b662-667cf756685f",
   "metadata": {},
   "outputs": [
    {
     "data": {
      "text/plain": [
       "array([-36.21461594, -27.81091181,  -9.03612411, -57.68367828,\n",
       "        87.64960519, -18.97975441,  -8.94186298,  42.61776933,\n",
       "       -83.21939343,  36.65094631,  38.41253669,  56.66181033,\n",
       "       -38.91519221,  37.83739547,  67.99247213,  66.13755637,\n",
       "       -47.62441081,  15.09429571, -89.18896319, -35.55133076,\n",
       "       -34.8019261 , -53.3373204 , -55.14328938,   1.69020384,\n",
       "        63.65688973,  83.83638594,  80.39798227,  23.03986666,\n",
       "       -80.91537594,  70.06984701, -69.45280871, -30.79159804,\n",
       "        76.52236662,  50.72720606,   3.77792152,  61.48398768,\n",
       "         9.07050666,  59.55592463, -79.59158576,  38.91678228,\n",
       "       -64.16745475,  84.71336942, -60.96059221,  -4.08187465,\n",
       "        46.80022439, -53.33776667, -63.23063481,  89.53160661,\n",
       "       -44.78702882, -88.22994998])"
      ]
     },
     "execution_count": 27,
     "metadata": {},
     "output_type": "execute_result"
    }
   ],
   "source": [
    "np.random.uniform(-90.000, 90.000, size=50)"
   ]
  },
  {
   "cell_type": "code",
   "execution_count": 31,
   "id": "47b09cb0-06d6-4a59-b74a-f137f36a62b2",
   "metadata": {},
   "outputs": [],
   "source": [
    "# Import timeit. # times how long it takes to run a command\n",
    "import timeit"
   ]
  },
  {
   "cell_type": "code",
   "execution_count": 33,
   "id": "67b3b5e0-9d71-405d-a204-58cda4247f59",
   "metadata": {},
   "outputs": [
    {
     "name": "stdout",
     "output_type": "stream",
     "text": [
      "17.5 µs ± 1.57 µs per loop (mean ± std. dev. of 7 runs, 100000 loops each)\n"
     ]
    }
   ],
   "source": [
    "%timeit np.random.uniform(-90.000, 90.000, size=1500)"
   ]
  },
  {
   "cell_type": "code",
   "execution_count": 39,
   "id": "f9b40a33-9581-4cdc-b01e-0dcc3a86968c",
   "metadata": {},
   "outputs": [
    {
     "name": "stdout",
     "output_type": "stream",
     "text": [
      "1.45 ms ± 82.5 µs per loop (mean ± std. dev. of 7 runs, 1000 loops each)\n"
     ]
    }
   ],
   "source": [
    "def latitudes(size):\n",
    "    latitudes = []\n",
    "    for i in range (0, size):\n",
    "        random_lat = random.randint(-90, 90) + random.random()\n",
    "        latitudes.append(random_lat)\n",
    "    return latitudes\n",
    "# Call the function with 1500.\n",
    "%timeit latitudes(1500)"
   ]
  },
  {
   "cell_type": "code",
   "execution_count": null,
   "id": "6ec5eae9-7c18-4fd0-b34b-8e2d717eab72",
   "metadata": {},
   "outputs": [],
   "source": []
  }
 ],
 "metadata": {
  "kernelspec": {
   "display_name": "PythonData",
   "language": "python",
   "name": "pythondata"
  },
  "language_info": {
   "codemirror_mode": {
    "name": "ipython",
    "version": 3
   },
   "file_extension": ".py",
   "mimetype": "text/x-python",
   "name": "python",
   "nbconvert_exporter": "python",
   "pygments_lexer": "ipython3",
   "version": "3.8.8"
  }
 },
 "nbformat": 4,
 "nbformat_minor": 5
}
